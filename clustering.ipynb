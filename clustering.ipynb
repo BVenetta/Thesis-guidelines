{
 "cells": [
  {
   "cell_type": "code",
   "execution_count": 1,
   "id": "11cb4dcf-df6f-468b-a421-9f3da5a253e7",
   "metadata": {
    "tags": []
   },
   "outputs": [],
   "source": [
    "line = open('simplewiki-20211120-lists-1k.tsv').readlines()[1]\n",
    "page, code = line.split('\\t')"
   ]
  },
  {
   "cell_type": "code",
   "execution_count": 2,
   "id": "b581e77b-c168-482e-812b-f3b8661fd7ba",
   "metadata": {
    "tags": []
   },
   "outputs": [
    {
     "name": "stdout",
     "output_type": "stream",
     "text": [
      "* [[Easter]]-related events in Western [[Christianity]]:\n",
      "** Palm Sunday (between [[March 15]] and [[April 18]])\n",
      "** Maundy Thursday (between [[March 19]] and [[April 22]])\n",
      "** Good Friday (between [[March 20]] and [[April 23]])\n",
      "** [[Easter]] Sunday (between [[March 22]] and [[April 25]])\n",
      "** Easter Monday (between [[March 23]] and [[April 26]])\n",
      "* Eastern Orthodox Easter falls between [[April 4]] and [[May 8]].\n",
      "* Ascension Day (Western Christianity), falls between [[April 30]] and [[June 3]].\n",
      "* [[Judaism|Jewish]] [[Passover]] - falls in the same week as Western [[Christianity]]'s [[Holy Week]], which is the week leading up to [[Easter]].\n",
      "* [[Mother's Day]] ([[UK]]) falls between [[March 1]] and [[April 4]].\n",
      "* World [[Snooker]] Championship (late April, early [[May]])\n",
      "* [[Horse racing]] - [[Grand National]] ([[UK]]), [[Kentucky Derby]] ([[United States]])\n",
      "* Start of [[Daylight Saving Time]] - Clocks going forward one hour:\n",
      "** Most of [[Mexico]]\n",
      "** [[Morocco]] ([[Ramadan]] does not include Daylight Saving Time)\n",
      "* End of [[Daylight Saving Time]] - Clocks going back one hour:\n",
      "** Southeast [[Australia]], and [[New Zealand]]\n",
      "** [[Chile]]\n",
      "* [[Marathon]] Events in the following cities:\n",
      "** [[Belgrade]], [[Serbia]]\n",
      "** [[Boston, Massachusetts]], [[United States]]\n",
      "** [[Brighton]], [[United Kingdom]]\n",
      "** [[Enschede]], [[Netherlands]]\n",
      "** [[London]], [[United Kingdom]]\n",
      "** [[Madrid]], [[Spain]]\n",
      "** [[Paris]], [[France]]\n",
      "** [[Rotterdam]], [[Netherlands]]\n",
      "** [[Utrecht (city)|Utrecht]], [[Netherlands]]\n",
      "** [[Zurich]], [[Switzerland]]\n",
      "\n"
     ]
    }
   ],
   "source": [
    "print(code.replace('\\\\n','\\n'))"
   ]
  },
  {
   "cell_type": "code",
   "execution_count": 3,
   "id": "3817fcbe-45c5-40d8-a8e0-d7c6f7fb8bf8",
   "metadata": {},
   "outputs": [
    {
     "name": "stdout",
     "output_type": "stream",
     "text": [
      "['* [[Easter]]-related events in Western [[Christianity]]:', '** Palm Sunday (between [[March 15]] and [[April 18]])']\n",
      "29\n"
     ]
    },
    {
     "data": {
      "text/plain": [
       "array([0, 0, 0, 0, 0, 0, 0, 0, 3, 0, 0, 2, 1, 0, 4, 1, 0, 0, 0, 0, 0, 0,\n",
       "       0, 0, 0, 0, 0, 0, 0])"
      ]
     },
     "metadata": {},
     "output_type": "display_data"
    },
    {
     "data": {
      "text/plain": [
       "{0: ['* [[Easter]]-related events in Western [[Christianity]]:',\n",
       "  '** Palm Sunday (between [[March 15]] and [[April 18]])',\n",
       "  '** Maundy Thursday (between [[March 19]] and [[April 22]])',\n",
       "  '** Good Friday (between [[March 20]] and [[April 23]])',\n",
       "  '** [[Easter]] Sunday (between [[March 22]] and [[April 25]])',\n",
       "  '** Easter Monday (between [[March 23]] and [[April 26]])',\n",
       "  '* Eastern Orthodox Easter falls between [[April 4]] and [[May 8]].',\n",
       "  '* Ascension Day (Western Christianity), falls between [[April 30]] and [[June 3]].',\n",
       "  \"* [[Mother's Day]] ([[UK]]) falls between [[March 1]] and [[April 4]].\",\n",
       "  '* World [[Snooker]] Championship (late April, early [[May]])',\n",
       "  '** Most of [[Mexico]]',\n",
       "  '** Southeast [[Australia]], and [[New Zealand]]',\n",
       "  '** [[Chile]]',\n",
       "  '* [[Marathon]] Events in the following cities:',\n",
       "  '** [[Belgrade]], [[Serbia]]',\n",
       "  '** [[Boston, Massachusetts]], [[United States]]',\n",
       "  '** [[Brighton]], [[United Kingdom]]',\n",
       "  '** [[Enschede]], [[Netherlands]]',\n",
       "  '** [[London]], [[United Kingdom]]',\n",
       "  '** [[Madrid]], [[Spain]]',\n",
       "  '** [[Paris]], [[France]]',\n",
       "  '** [[Rotterdam]], [[Netherlands]]',\n",
       "  '** [[Utrecht (city)|Utrecht]], [[Netherlands]]',\n",
       "  '** [[Zurich]], [[Switzerland]]'],\n",
       " 3: [\"* [[Judaism|Jewish]] [[Passover]] - falls in the same week as Western [[Christianity]]'s [[Holy Week]], which is the week leading up to [[Easter]].\"],\n",
       " 2: ['* [[Horse racing]] - [[Grand National]] ([[UK]]), [[Kentucky Derby]] ([[United States]])'],\n",
       " 1: ['* Start of [[Daylight Saving Time]] - Clocks going forward one hour:',\n",
       "  '* End of [[Daylight Saving Time]] - Clocks going back one hour:'],\n",
       " 4: ['** [[Morocco]] ([[Ramadan]] does not include Daylight Saving Time)']}"
      ]
     },
     "execution_count": 3,
     "metadata": {},
     "output_type": "execute_result"
    }
   ],
   "source": [
    "import Levenshtein\n",
    "\n",
    "rows = code.replace('\\\\n','\\n').splitlines()\n",
    "print(rows[:2])\n",
    "print(len(rows))\n",
    "distances = [\n",
    "    [\n",
    "        Levenshtein.distance(rows[i], rows[j])\n",
    "        for j in range(len(rows))\n",
    "    ]\n",
    "    for i in range(len(rows))\n",
    "]\n",
    "\n",
    "from sklearn.cluster import AgglomerativeClustering\n",
    "agg = AgglomerativeClustering(n_clusters=5, metric='precomputed', linkage='average')\n",
    "clusters = agg.fit_predict(distances)\n",
    "display(clusters)\n",
    "\n",
    "cluster_rows = {}\n",
    "for cluster_id, row in zip(clusters, rows):\n",
    "    cluster_rows.setdefault(cluster_id, []).append( row )\n",
    "cluster_rows"
   ]
  },
  {
   "cell_type": "code",
   "execution_count": 6,
   "id": "debd1cc8-969a-424d-a932-d6b4f37336f9",
   "metadata": {},
   "outputs": [
    {
     "data": {
      "text/plain": [
       "[['* [[Easter]]-related events in Western [[Christianity]]:',\n",
       "  '** Palm Sunday (between [[March 15]] and [[April 18]])',\n",
       "  '** Maundy Thursday (between [[March 19]] and [[April 22]])',\n",
       "  '** Good Friday (between [[March 20]] and [[April 23]])',\n",
       "  '** [[Easter]] Sunday (between [[March 22]] and [[April 25]])',\n",
       "  '** Easter Monday (between [[March 23]] and [[April 26]])',\n",
       "  '* Eastern Orthodox Easter falls between [[April 4]] and [[May 8]].',\n",
       "  '* Ascension Day (Western Christianity), falls between [[April 30]] and [[June 3]].',\n",
       "  \"* [[Mother's Day]] ([[UK]]) falls between [[March 1]] and [[April 4]].\",\n",
       "  '* World [[Snooker]] Championship (late April, early [[May]])',\n",
       "  '** Most of [[Mexico]]',\n",
       "  '** Southeast [[Australia]], and [[New Zealand]]',\n",
       "  '** [[Chile]]',\n",
       "  '* [[Marathon]] Events in the following cities:',\n",
       "  '** [[Belgrade]], [[Serbia]]',\n",
       "  '** [[Boston, Massachusetts]], [[United States]]',\n",
       "  '** [[Brighton]], [[United Kingdom]]',\n",
       "  '** [[Enschede]], [[Netherlands]]',\n",
       "  '** [[London]], [[United Kingdom]]',\n",
       "  '** [[Madrid]], [[Spain]]',\n",
       "  '** [[Paris]], [[France]]',\n",
       "  '** [[Rotterdam]], [[Netherlands]]',\n",
       "  '** [[Utrecht (city)|Utrecht]], [[Netherlands]]',\n",
       "  '** [[Zurich]], [[Switzerland]]'],\n",
       " ['* Start of [[Daylight Saving Time]] - Clocks going forward one hour:',\n",
       "  '* End of [[Daylight Saving Time]] - Clocks going back one hour:']]"
      ]
     },
     "execution_count": 6,
     "metadata": {},
     "output_type": "execute_result"
    }
   ],
   "source": [
    "[v for k,v in cluster_rows.items() if len(v) > 1]"
   ]
  },
  {
   "cell_type": "code",
   "execution_count": null,
   "id": "aa0b8d04-adb0-470f-8aa7-77fcb268f486",
   "metadata": {},
   "outputs": [],
   "source": []
  }
 ],
 "metadata": {
  "kernelspec": {
   "display_name": "Python (templater)",
   "language": "python",
   "name": "templater"
  },
  "language_info": {
   "codemirror_mode": {
    "name": "ipython",
    "version": 3
   },
   "file_extension": ".py",
   "mimetype": "text/x-python",
   "name": "python",
   "nbconvert_exporter": "python",
   "pygments_lexer": "ipython3",
   "version": "3.8.16"
  }
 },
 "nbformat": 4,
 "nbformat_minor": 5
}
