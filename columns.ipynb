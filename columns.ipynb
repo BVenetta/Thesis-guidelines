{
 "cells": [
  {
   "cell_type": "code",
   "execution_count": 4,
   "id": "a99b715f-85b9-4171-bedd-0b48326fbf51",
   "metadata": {
    "tags": []
   },
   "outputs": [],
   "source": [
    "import templater3"
   ]
  },
  {
   "cell_type": "code",
   "execution_count": 17,
   "id": "11cb4dcf-df6f-468b-a421-9f3da5a253e7",
   "metadata": {
    "tags": []
   },
   "outputs": [],
   "source": [
    "line = open('simplewiki-20211120-lists-1k.tsv').readlines()[0]\n",
    "page, code = line.split('\\t')"
   ]
  },
  {
   "cell_type": "code",
   "execution_count": 18,
   "id": "b581e77b-c168-482e-812b-f3b8661fd7ba",
   "metadata": {
    "tags": []
   },
   "outputs": [
    {
     "name": "stdout",
     "output_type": "stream",
     "text": [
      "* [[April 1]] - [[April Fools' Day]]\n",
      "* [[April 1]] - Islamic Republic Day ([[Iran]])\n",
      "* [[April 2]] - International Children's Book Day\n",
      "* [[April 2]] - [[Thailand|Thai]] Heritage and [[wikt:conservation|Conservation]] Day\n",
      "* [[April 2]] - World [[Autism]] Awareness Day\n",
      "* [[April 2]] - Malvinas Day ([[Argentina]])\n",
      "* [[April 4]] - Independence Day ([[Senegal]])\n",
      "* [[April 4]] - International Day for Landmine Awareness and Assistance\n",
      "* [[April 4]] - Peace Day ([[Angola]])\n",
      "* [[April 5]] - End of [[Tax]] Year ([[United Kingdom]])\n",
      "* [[April 6]] - Tartan Day ([[Canada]] and [[United States]])\n",
      "* [[April 6]] - Chakri Day ([[Thailand]])\n",
      "* [[April 7]] - Day of Maternity and Beauty ([[Armenia]])\n",
      "* [[April 7]] - Genocide Memorial Day ([[Rwanda]])\n",
      "* [[April 7]] - World [[Health]] Day\n",
      "* [[April 7]] - Women's Day ([[Mozambique]])\n",
      "* [[April 8]] - [[Buddha]]'s Birthday ([[Buddhism]])\n",
      "* [[April 9]] - Martyrs' Day ([[Tunisia]])\n",
      "* [[April 9]] - Day of National Unity ([[Georgia (country)|Georgia]])\n",
      "* [[April 9]] - Day of the [[Finnish language]]\n",
      "* [[April 12]] - [[Cosmonaut]]s' Day ([[Russia]]), marking the day of [[Yuri Gagarin]]'s space flight\n",
      "* [[April 13]] - Songkan ([[Laos]]), local New Year celebration\n",
      "* [[April 13]] - [[Cambodia]]n New Year\n",
      "* [[April 13]] - [[Thomas Jefferson]]'s [[Birthday]] ([[United States]])\n",
      "* [[April 14]] - [[Southeast Asia]]n [[New Year]] festivals, including [[Songkran]]\n",
      "* [[April 14]] - [[Georgian language]] Day\n",
      "* [[April 14]] - Youth Day ([[Angola]])\n",
      "* [[April 14]] - Ambedkar Tayanti ([[India]])\n",
      "* [[April 14]] - Pan-American Day\n",
      "* [[April 15]] - [[Tax]] Day ([[United States]])\n",
      "* [[April 15]] - [[Kim Il-Sung]]'s [[Birthday]] ([[North Korea]])\n",
      "* [[April 15]] - [[Father Damien]] Day ([[Hawaii]])\n",
      "* [[April 15]] - [[Jackie Robinson]] Day ([[Major League Baseball]])\n",
      "* [[April 16]] - [[Birthday]] of Queen [[Margrethe II of Denmark]]\n",
      "* [[April 16]] - Emancipation Day ([[Washington, DC]])\n",
      "* [[April 16]] - World [[Voice]] Day\n",
      "* [[April 16]] - [[Selena]] Day ([[Texas]])\n",
      "* [[April 17]] - National Day of [[Syria]]\n",
      "* [[April 17]] - Flag Day ([[American Samoa]])\n",
      "* [[April 17]] - Women's Day ([[Gabon]])\n",
      "* [[April 17]] - World [[Hemophilia]] Day\n",
      "* [[April 18]] - Independence Day ([[Zimbabwe]])\n",
      "* [[April 18]] - Invention Day ([[Japan]])\n",
      "* [[April 18]] - International Day of [[Monument]]s and Sites\n",
      "* [[April 19]] - [[Bicycle]] Day\n",
      "* [[April 19]] - Dutch-American Friendship Day\n",
      "* [[April 19]] - [[Birthday]] of King [[Mswati III]] of [[Swaziland]]\n",
      "* [[April 19]] - Patriots' Day ([[Massachusetts]], [[Maine]], [[Wisconsin]])\n",
      "* [[April 20]] - 4/20 in [[Cannabis]] [[Culture]]\n",
      "* [[April 21]] - [[John Muir]] Day ([[California]])\n",
      "* [[April 21]] - San Jacinto Day ([[Texas]])\n",
      "* [[April 21]] - Kartini Day ([[Indonesia]])\n",
      "* [[April 21]] - National [[Tree]] Planting Day ([[Kenya]])\n",
      "* [[April 21]] - First Day of [[Ridran]] ([[Baha'i]] faith)\n",
      "* [[April 21]] - Grounation Day ([[Rastafari movement]])\n",
      "* [[April 22]] - [[Earth Day]]\n",
      "* [[April 22]] - Discovery Day ([[Brazil]])\n",
      "* [[April 23]] - [[Saint George]]'s Day, celebrating the patron saint of several countries, regions and cities (including [[England]] and [[Catalonia]])\n",
      "* [[April 23]] - World [[Book]] Day\n",
      "* [[April 23]] - National Sovereignty and [[Child]]ren's Day ([[Turkey]])\n",
      "* [[April 24]] - Democracy Day ([[Nepal]])\n",
      "* [[April 24]] - Genocide Day ([[Armenia]])\n",
      "* [[April 24]] - [[Republic]] Day (the [[Gambia]])\n",
      "* [[April 25]] - [[Australia]] and [[New Zealand]] celebrate [[ANZAC Day]]. [http://www.awm.gov.au/dawn/spirit/meaning.asp ANZAC] {{Webarchive|url=https://web.archive.org/web/20060615053606/http://www.awm.gov.au/dawn/spirit/meaning.asp |date=2006-06-15 }} means Australian and New Zealand Army Corps, and began in 1915.\n",
      "* [[April 25]] - World [[DNA]] Day\n",
      "* [[April 25]] - World [[Malaria]] Day\n",
      "* [[April 25]] - Flag Day ([[Swaziland]], [[Faroe Islands]])\n",
      "* [[April 25]] - Freedom Day ([[Portugal]])\n",
      "* [[April 25]] - Liberation Day ([[Italy]])\n",
      "* [[April 25]] - Army Day ([[North Korea]])\n",
      "* [[April 26]] - Union Day ([[Tanzania]])\n",
      "* [[April 26]] - Confederate Memorial Day ([[Texas]], [[Florida]])\n",
      "* [[April 27]] - Independence Day ([[Sierra Leone]] and [[Togo]])\n",
      "* [[April 27]] - Freedom Day ([[South Africa]])\n",
      "* [[April 27]] - World [[Tapir]] Day\n",
      "* [[April 27]] - King's Day ([[Netherlands]]) from [[2014]], birthday of [[Willem-Alexander of the Netherlands]]\n",
      "* [[April 28]] - Workers Memorial Day\n",
      "* [[April 28]] - National Day ([[Sardinia]])\n",
      "* [[April 28]] - National Heroes Day ([[Barbados]])\n",
      "* [[April 29]] - Showa Day ([[Japan]]), birthday of Emperor [[Hirohito]], who died in [[1989]]\n",
      "* [[April 29]] - International [[Dance]] Day\n",
      "* [[April 30]] - Former Queen's Day Holiday in the [[Netherlands]] (changed to King's Day, [[April 27]] in [[2014]]), was the birthday of former Queen [[Juliana of the Netherlands]]\n",
      "* [[April 30]] - Flag Day in [[Sweden]] (birthday of King [[Carl XVI Gustaf of Sweden]])\n",
      "* [[April 30]] - International [[Jazz]] Day\n",
      "* [[April 30]] - [[Walpurgis Night]] (Central and Northern [[Europe]])\n",
      "\n"
     ]
    }
   ],
   "source": [
    "print(code.replace('\\\\n','\\n'))"
   ]
  },
  {
   "cell_type": "code",
   "execution_count": 49,
   "id": "fd5a5598-4346-4997-accb-8c120b8c5f95",
   "metadata": {
    "tags": []
   },
   "outputs": [
    {
     "name": "stdout",
     "output_type": "stream",
     "text": [
      " template: [None, '* [[April ', None, ']] - ', None]\n",
      " Column 1 is not splittable with <function <lambda> at 0x7f3a0407c670>\n",
      " Split column 2\n",
      "  template: [None, '[[', None, ']]', None]\n",
      "  Column 0 is not splittable with <function <lambda> at 0x7f3a0407c670>\n",
      "  Split column 1\n",
      "   template: [None, 'Washington, DC', None]\n",
      "   template: [None]\n",
      "   Column 0 is not splittable with <function <lambda> at 0x7f3a0407c670>\n",
      "  Column 2 is not splittable with <function <lambda> at 0x7f3a0407c670>\n",
      "  template: [None]\n",
      "  Column 0 is not splittable with <function <lambda> at 0x7f3a0407c670>\n"
     ]
    },
    {
     "data": {
      "text/plain": [
       "['',\n",
       " '* [[April ',\n",
       " None,\n",
       " ']] - ',\n",
       " ([None, '[[', (['', 'Washington, DC', ''], [None]), ']]', None], [None])]"
      ]
     },
     "execution_count": 49,
     "metadata": {},
     "output_type": "execute_result"
    }
   ],
   "source": [
    "# Recursive function\n",
    "\n",
    "def split_set(cells, func):\n",
    "    c1 = [c for c in cells if func(c)]\n",
    "    c2 = [c for c in cells if not func(c)]\n",
    "    return c1, c2\n",
    "\n",
    "def get_pattern(rows, func, depth=0):\n",
    "    # Learn template\n",
    "    template = templater3.Templater(min_block_size=2)\n",
    "    for row in rows:\n",
    "        template.learn(row)\n",
    "    print(' '*depth, 'template:',  template._template)\n",
    "    \n",
    "    # Parse rows using template\n",
    "    parsed = [template.parse(row) for row in rows]\n",
    "    columns = list(zip(*parsed))\n",
    "    for colnum, column in enumerate(columns):\n",
    "        # print(' '*depth, 'Column', colnum, 'examples:', column) # show 3 examples\n",
    "        \n",
    "        if not any(column):\n",
    "            template._template[colnum*2] = ''\n",
    "            continue\n",
    "        \n",
    "        c1, c2 = split_set(column, func)\n",
    "        if (not c1) or (not c2):\n",
    "            print(' '*depth, 'Column', colnum, 'is not splittable with', func)\n",
    "        else:\n",
    "            print(' '*depth, 'Split column', colnum)\n",
    "            template._template[colnum*2] = (\n",
    "                get_pattern(c1, func, depth=depth+1),\n",
    "                get_pattern(c2, func, depth=depth+1),\n",
    "            )\n",
    "            \n",
    "    return template._template\n",
    "\n",
    "        \n",
    "        \n",
    "# func = lambda c: c.endswith(')')\n",
    "# func = lambda c: ' and ' in c\n",
    "# func = lambda c: ',' in c\n",
    "func = lambda c: c.endswith(')') or (',' in c)\n",
    "\n",
    "get_pattern(code.replace('\\\\n', '\\n').splitlines(), func)"
   ]
  },
  {
   "cell_type": "code",
   "execution_count": 38,
   "id": "a9d65ca5-855b-429c-9bae-4a185d271783",
   "metadata": {
    "tags": []
   },
   "outputs": [
    {
     "name": "stdout",
     "output_type": "stream",
     "text": [
      "template: [None, 'a', None]\n"
     ]
    }
   ],
   "source": [
    "# Weird templater behaviour\n",
    "\n",
    "vals = ('[[Thailand|Thai]] Heritage and [[wikt:conservation|Conservation]] Day', 'International Day for Landmine Awareness and Assistance', 'Tartan Day ([[Canada]] and [[United States]])', 'Day of Maternity and Beauty ([[Armenia]])', 'International Day of [[Monument]]s and Sites', \"[[Saint George]]'s Day, celebrating the patron saint of several countries, regions and cities (including [[England]] and [[Catalonia]])\", \"National Sovereignty and [[Child]]ren's Day ([[Turkey]])\", '[[Australia]] and [[New Zealand]] celebrate [[ANZAC Day]]. [http://www.awm.gov.au/dawn/spirit/meaning.asp ANZAC] {{Webarchive|url=https://web.archive.org/web/20060615053606/http://www.awm.gov.au/dawn/spirit/meaning.asp |date=2006-06-15 }} means Australian and New Zealand Army Corps, and began in 1915.', 'Independence Day ([[Sierra Leone]] and [[Togo]])', '[[Walpurgis Night]] (Central and Northern [[Europe]])')\n",
    "vals\n",
    "\n",
    "template = templater3.Templater(min_block_size=2)\n",
    "for row in vals:\n",
    "    template.learn(row)\n",
    "print('template:',  template._template)"
   ]
  },
  {
   "cell_type": "code",
   "execution_count": null,
   "id": "3817fcbe-45c5-40d8-a8e0-d7c6f7fb8bf8",
   "metadata": {},
   "outputs": [],
   "source": [
    "from Levenshtein import distance\n",
    "\n",
    "distance(\"lewenstein\", \"levenshtein\")"
   ]
  }
 ],
 "metadata": {
  "kernelspec": {
   "display_name": "Python (templater)",
   "language": "python",
   "name": "templater"
  },
  "language_info": {
   "codemirror_mode": {
    "name": "ipython",
    "version": 3
   },
   "file_extension": ".py",
   "mimetype": "text/x-python",
   "name": "python",
   "nbconvert_exporter": "python",
   "pygments_lexer": "ipython3",
   "version": "3.8.16"
  }
 },
 "nbformat": 4,
 "nbformat_minor": 5
}
